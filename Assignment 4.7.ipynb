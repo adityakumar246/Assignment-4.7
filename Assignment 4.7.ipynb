{
 "cells": [
  {
   "cell_type": "markdown",
   "metadata": {},
   "source": [
    "QUESTION"
   ]
  },
  {
   "cell_type": "markdown",
   "metadata": {},
   "source": [
    "Problem Statement 1:\n",
    "\n",
    "Blood glucose levels for obese patients have a mean of 100 with a standard deviation of\n",
    "15. A researcher thinks that a diet high in raw cornstarch will have a positive effect on\n",
    "blood glucose levels. A sample of 36 patients who have tried the raw cornstarch diet\n",
    "have a mean glucose level of 108. Test the hypothesis that the raw cornstarch had an\n",
    "effect or not."
   ]
  },
  {
   "cell_type": "markdown",
   "metadata": {},
   "source": [
    "ANSWER"
   ]
  },
  {
   "cell_type": "code",
   "execution_count": 2,
   "metadata": {},
   "outputs": [
    {
     "name": "stdout",
     "output_type": "stream",
     "text": [
      "3.2\n"
     ]
    }
   ],
   "source": [
    "import math\n",
    "#4.7\n",
    "#1.\n",
    "#Ho : Mean = 100\n",
    "#Ha : Mean != 100\n",
    "\n",
    "#2.\n",
    "#Alpha = 0.05 (default value 5%)\n",
    "#Z Score = 2.5 % rejection at both side as Alpha= 5%\n",
    "#Z score of 47.5% is .475 zX = 1.96 (from z table)\n",
    "\n",
    "#3.\n",
    "z= (108-100)/(15/ math.sqrt(36)) \n",
    "print(z)\n",
    "\n",
    "#4.\n",
    "#since Z value is > 1.96, null hypothes is is wrong and alternate hypothesis is correct."
   ]
  }
 ],
 "metadata": {
  "kernelspec": {
   "display_name": "Python 3",
   "language": "python",
   "name": "python3"
  },
  "language_info": {
   "codemirror_mode": {
    "name": "ipython",
    "version": 3
   },
   "file_extension": ".py",
   "mimetype": "text/x-python",
   "name": "python",
   "nbconvert_exporter": "python",
   "pygments_lexer": "ipython3",
   "version": "3.6.6"
  }
 },
 "nbformat": 4,
 "nbformat_minor": 2
}
